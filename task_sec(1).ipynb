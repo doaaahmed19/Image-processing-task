{
 "cells": [
  {
   "cell_type": "markdown",
   "metadata": {},
   "source": [
    "# Gamma Correlation"
   ]
  },
  {
   "cell_type": "raw",
   "metadata": {},
   "source": [
    "It can be used to correct the brightness of an image by using a non linear transformation between the input values and the mapped output values:\n",
    "\n",
    "O=(I/255)**γ×255\n",
    "\n",
    ". I – input pixel value [0, 255].\n",
    ". O – output pixel value [0, 255].\n",
    ". γ – gamma that controls image brightness. If gamma < 1 then image will be darker, if gamma > 1 then image will be lighter. \n",
    "A gamma = 1 has no effect.\"'\"\"\n",
    "\n",
    "- Gamma correction can be implemented using lookup table (LUT). It maps the input pixel values to the output values. \n",
    " For each pixel value in the range [0, 255] is calculated corresponding gamma corrected value.\n",
    "- OpenCV provides LUT function which performs a lookup table transform."
   ]
  },
  {
   "cell_type": "code",
   "execution_count": 1,
   "metadata": {},
   "outputs": [],
   "source": [
    "import numpy as np\n",
    "import argparse\n",
    "import cv2\n",
    "def adjust_gamma(image, gamma=1.0):\n",
    "    \n",
    "  # build a lookup table mapping the pixel values [0, 255] to\n",
    "  # their adjusted gamma values\n",
    "    invGamma = 1.0 / gamma\n",
    "    table = np.array([((i / 255.0) ** invGamma) * 255\n",
    "    for i in np.arange(0, 256)]).astype(\"uint8\")\n",
    "  # apply gamma correction using the lookup table\n",
    "  return cv2.LUT(image, table)"
   ]
  },
  {
   "cell_type": "code",
   "execution_count": null,
   "metadata": {},
   "outputs": [],
   "source": [
    "img = cv2.imread('triangle.jpg')\n",
    "gammaImg = adjust_gamma(img, 2.2)\n",
    " \n",
    "cv2.imshow('Original image', img)\n",
    "cv2.imshow('Gamma corrected image', gammaImg)\n",
    "cv2.waitKey(0)\n",
    "cv2.destroyAllWindows()"
   ]
  },
  {
   "cell_type": "code",
   "execution_count": null,
   "metadata": {},
   "outputs": [],
   "source": []
  }
 ],
 "metadata": {
  "kernelspec": {
   "display_name": "Python 3 (ipykernel)",
   "language": "python",
   "name": "python3"
  },
  "language_info": {
   "codemirror_mode": {
    "name": "ipython",
    "version": 3
   },
   "file_extension": ".py",
   "mimetype": "text/x-python",
   "name": "python",
   "nbconvert_exporter": "python",
   "pygments_lexer": "ipython3",
   "version": "3.10.1"
  }
 },
 "nbformat": 4,
 "nbformat_minor": 4
}
